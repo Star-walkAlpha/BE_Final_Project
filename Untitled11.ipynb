{
  "nbformat": 4,
  "nbformat_minor": 0,
  "metadata": {
    "colab": {
      "provenance": [],
      "gpuType": "T4",
      "authorship_tag": "ABX9TyPoObxemj/eyPycYH8hf1QQ",
      "include_colab_link": true
    },
    "kernelspec": {
      "name": "python3",
      "display_name": "Python 3"
    },
    "language_info": {
      "name": "python"
    },
    "accelerator": "GPU",
    "gpuClass": "standard"
  },
  "cells": [
    {
      "cell_type": "markdown",
      "metadata": {
        "id": "view-in-github",
        "colab_type": "text"
      },
      "source": [
        "<a href=\"https://colab.research.google.com/github/Star-walkAlpha/BE_Final_Project/blob/main/Untitled11.ipynb\" target=\"_parent\"><img src=\"https://colab.research.google.com/assets/colab-badge.svg\" alt=\"Open In Colab\"/></a>"
      ]
    },
    {
      "cell_type": "code",
      "source": [
        "!apt-get install gcc\n"
      ],
      "metadata": {
        "colab": {
          "base_uri": "https://localhost:8080/"
        },
        "id": "6DIjdgbjY2cr",
        "outputId": "20a85adc-1036-4cab-adfe-48235863b3a1"
      },
      "execution_count": 50,
      "outputs": [
        {
          "output_type": "stream",
          "name": "stdout",
          "text": [
            "Reading package lists... Done\n",
            "Building dependency tree       \n",
            "Reading state information... Done\n",
            "gcc is already the newest version (4:9.3.0-1ubuntu2).\n",
            "0 upgraded, 0 newly installed, 0 to remove and 37 not upgraded.\n"
          ]
        }
      ]
    },
    {
      "cell_type": "code",
      "source": [
        "!apt-get update\n",
        "!apt-get install -y mpich\n"
      ],
      "metadata": {
        "id": "Ul_hObyrfQmm",
        "colab": {
          "base_uri": "https://localhost:8080/"
        },
        "outputId": "b7bb7de1-f50e-4997-bf3a-eacd69e40489"
      },
      "execution_count": 51,
      "outputs": [
        {
          "output_type": "stream",
          "name": "stdout",
          "text": [
            "Hit:1 https://cloud.r-project.org/bin/linux/ubuntu focal-cran40/ InRelease\n",
            "Hit:2 https://developer.download.nvidia.com/compute/cuda/repos/ubuntu2004/x86_64  InRelease\n",
            "Hit:3 http://security.ubuntu.com/ubuntu focal-security InRelease\n",
            "Hit:4 http://archive.ubuntu.com/ubuntu focal InRelease\n",
            "Hit:5 http://archive.ubuntu.com/ubuntu focal-updates InRelease\n",
            "Hit:6 http://ppa.launchpad.net/c2d4u.team/c2d4u4.0+/ubuntu focal InRelease\n",
            "Get:7 http://archive.ubuntu.com/ubuntu focal-backports InRelease [108 kB]\n",
            "Hit:8 http://ppa.launchpad.net/cran/libgit2/ubuntu focal InRelease\n",
            "Hit:9 http://ppa.launchpad.net/deadsnakes/ppa/ubuntu focal InRelease\n",
            "Hit:10 http://ppa.launchpad.net/graphics-drivers/ppa/ubuntu focal InRelease\n",
            "Hit:11 http://ppa.launchpad.net/ubuntugis/ppa/ubuntu focal InRelease\n",
            "Fetched 108 kB in 2s (50.5 kB/s)\n",
            "Reading package lists... Done\n",
            "Reading package lists... Done\n",
            "Building dependency tree       \n",
            "Reading state information... Done\n",
            "mpich is already the newest version (3.3.2-2build1).\n",
            "0 upgraded, 0 newly installed, 0 to remove and 37 not upgraded.\n"
          ]
        }
      ]
    },
    {
      "cell_type": "code",
      "source": [
        "!mpicc   recursive.c -o mpi_program"
      ],
      "metadata": {
        "id": "X4HUOVsW20of"
      },
      "execution_count": 52,
      "outputs": []
    },
    {
      "cell_type": "code",
      "source": [
        "!mpirun --allow-run-as-root -np 1 ./mpi_program input_100.txt output.txt\n"
      ],
      "metadata": {
        "colab": {
          "base_uri": "https://localhost:8080/"
        },
        "id": "Lbd5cGnW0c1f",
        "outputId": "4baa3848-fc3d-4bd6-ed13-19cece44e6f9"
      },
      "execution_count": 64,
      "outputs": [
        {
          "output_type": "stream",
          "name": "stdout",
          "text": [
            "SZIE IS  100\n",
            "\n",
            "Input Data \n",
            "\n",
            " \n",
            "\n",
            " End Input Data\n",
            "\n",
            "Processor 0 has data: 83 \t86 \t77 \t15 \t93 \t\n",
            "\n",
            "\n",
            "Wall time      :  0.0001\t\n",
            "\n",
            "\n",
            "\n",
            "Check successfully completed. Array Sorted\n",
            "\n",
            "*** stack smashing detected ***: terminated\n",
            "[ec8dd868d7f7:19885] *** Process received signal ***\n",
            "[ec8dd868d7f7:19885] Signal: Aborted (6)\n",
            "[ec8dd868d7f7:19885] Signal code:  (-6)\n",
            "[ec8dd868d7f7:19885] [ 0] /lib/x86_64-linux-gnu/libc.so.6(+0x43090)[0x7fd33352b090]\n",
            "[ec8dd868d7f7:19885] [ 1] /lib/x86_64-linux-gnu/libc.so.6(gsignal+0xcb)[0x7fd33352b00b]\n",
            "[ec8dd868d7f7:19885] [ 2] /lib/x86_64-linux-gnu/libc.so.6(abort+0x12b)[0x7fd33350a859]\n",
            "[ec8dd868d7f7:19885] [ 3] /lib/x86_64-linux-gnu/libc.so.6(+0x8d26e)[0x7fd33357526e]\n",
            "[ec8dd868d7f7:19885] [ 4] /lib/x86_64-linux-gnu/libc.so.6(__fortify_fail+0x2a)[0x7fd333617aba]\n",
            "[ec8dd868d7f7:19885] [ 5] /lib/x86_64-linux-gnu/libc.so.6(+0x12fa86)[0x7fd333617a86]\n",
            "[ec8dd868d7f7:19885] [ 6] ./mpi_program(+0x1961)[0x55844c40e961]\n",
            "[ec8dd868d7f7:19885] [ 7] /lib/x86_64-linux-gnu/libc.so.6(__libc_start_main+0xf3)[0x7fd33350c083]\n",
            "[ec8dd868d7f7:19885] [ 8] ./mpi_program(+0x132e)[0x55844c40e32e]\n",
            "[ec8dd868d7f7:19885] *** End of error message ***\n",
            "--------------------------------------------------------------------------\n",
            "Primary job  terminated normally, but 1 process returned\n",
            "a non-zero exit code. Per user-direction, the job has been aborted.\n",
            "--------------------------------------------------------------------------\n",
            "--------------------------------------------------------------------------\n",
            "mpirun noticed that process rank 0 with PID 0 on node ec8dd868d7f7 exited on signal 6 (Aborted).\n",
            "--------------------------------------------------------------------------\n"
          ]
        }
      ]
    },
    {
      "cell_type": "code",
      "source": [
        "!cat output.txt"
      ],
      "metadata": {
        "colab": {
          "base_uri": "https://localhost:8080/"
        },
        "id": "lqJ_-sOOzy1P",
        "outputId": "d4159550-0b67-4c87-aae8-6a9d023784fa"
      },
      "execution_count": 65,
      "outputs": [
        {
          "output_type": "stream",
          "name": "stdout",
          "text": [
            "Recursively Sorted  Data : \n",
            "\n",
            "Input size : 100\t\n",
            "\n",
            "Nber processes : 1\t\n",
            "\n",
            "Wall time      :  0.0001\t\n",
            "\n",
            " 2 \t 3 \t 5 \t 5 \t 8 \t 11 \t 11 \t 12 \t 13 \t 13 \t 14 \t 15 \t 15 \t 19 \t 21 \t 21 \t 22 \t 23 \t 24 \t 24 \t 25 \t 26 \t 26 \t 26 \t 26 \t 27 \t 27 \t 29 \t 29 \t 29 \t 29 \t 30 \t 32 \t 34 \t 35 \t 35 \t 36 \t 36 \t 37 \t 39 \t 39 \t 40 \t 42 \t 43 \t 45 \t 46 \t 49 \t 50 \t 51 \t 54 \t 56 \t 56 \t 57 \t 58 \t 59 \t 60 \t 62 \t 62 \t 62 \t 63 \t 64 \t 67 \t 67 \t 67 \t 67 \t 68 \t 68 \t 69 \t 70 \t 70 \t 72 \t 73 \t 73 \t 76 \t 76 \t 77 \t 78 \t 80 \t 81 \t 82 \t 82 \t 83 \t 84 \t 84 \t 84 \t 86 \t 86 \t 86 \t 87 \t 88 \t 90 \t 91 \t 92 \t 93 \t 93 \t 94 \t 95 \t 96 \t 98 \t 99 \t"
          ]
        }
      ]
    },
    {
      "cell_type": "code",
      "source": [],
      "metadata": {
        "id": "25s4vpm63x6P"
      },
      "execution_count": null,
      "outputs": []
    }
  ]
}