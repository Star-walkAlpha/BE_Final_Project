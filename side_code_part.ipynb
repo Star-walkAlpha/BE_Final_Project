{
 "cells": [
  {
   "cell_type": "code",
   "execution_count": 1,
   "metadata": {},
   "outputs": [],
   "source": [
    "from sklearn.svm import SVC\n",
    "from sklearn.model_selection import RandomizedSearchCV\n",
    "from sklearn.metrics import classification_report\n",
    "from sklearn.inspection import permutation_importance\n",
    "import pandas as pd\n",
    "import numpy as np\n",
    "from sklearn.model_selection import train_test_split\n",
    "from sklearn.metrics import confusion_matrix, accuracy_score, classification_report,precision_recall_fscore_support"
   ]
  },
  {
   "cell_type": "code",
   "execution_count": 2,
   "metadata": {},
   "outputs": [],
   "source": [
    "mental_df = pd.read_csv('osmi 2016.csv')\n"
   ]
  },
  {
   "cell_type": "code",
   "execution_count": 3,
   "metadata": {},
   "outputs": [
    {
     "name": "stderr",
     "output_type": "stream",
     "text": [
      "/tmp/ipykernel_13136/42734101.py:5: FutureWarning: The frame.append method is deprecated and will be removed from pandas in a future version. Use pandas.concat instead.\n",
      "  mental_df = mental_df.append(mental_df_copy, ignore_index=True)\n"
     ]
    }
   ],
   "source": [
    "# Copy the first 1000 rows\n",
    "mental_df_copy = mental_df.head(1400)\n",
    "\n",
    "# Append the copied rows to the end of the DataFrame\n",
    "mental_df = mental_df.append(mental_df_copy, ignore_index=True)\n"
   ]
  },
  {
   "cell_type": "code",
   "execution_count": 4,
   "metadata": {},
   "outputs": [
    {
     "name": "stderr",
     "output_type": "stream",
     "text": [
      "/tmp/ipykernel_13136/2371066292.py:5: FutureWarning: The frame.append method is deprecated and will be removed from pandas in a future version. Use pandas.concat instead.\n",
      "  mental_df = mental_df.append(mental_df_copy, ignore_index=True)\n"
     ]
    }
   ],
   "source": [
    "# Copy the first 1000 rows\n",
    "mental_df_copy = mental_df.head(1400)\n",
    "\n",
    "# Append the copied rows to the end of the DataFrame\n",
    "mental_df = mental_df.append(mental_df_copy, ignore_index=True)"
   ]
  },
  {
   "cell_type": "code",
   "execution_count": 5,
   "metadata": {},
   "outputs": [
    {
     "name": "stderr",
     "output_type": "stream",
     "text": [
      "/tmp/ipykernel_13136/400396783.py:3: FutureWarning: The frame.append method is deprecated and will be removed from pandas in a future version. Use pandas.concat instead.\n",
      "  mental_df = mental_df.append(mental_df_copy, ignore_index=True)\n"
     ]
    }
   ],
   "source": [
    "mental_df_copy = mental_df.head(3000)\n",
    "# Append the copied rows to the end of the DataFrame\n",
    "mental_df = mental_df.append(mental_df_copy, ignore_index=True)\n"
   ]
  },
  {
   "cell_type": "code",
   "execution_count": 6,
   "metadata": {},
   "outputs": [
    {
     "name": "stderr",
     "output_type": "stream",
     "text": [
      "/tmp/ipykernel_13136/400396783.py:3: FutureWarning: The frame.append method is deprecated and will be removed from pandas in a future version. Use pandas.concat instead.\n",
      "  mental_df = mental_df.append(mental_df_copy, ignore_index=True)\n"
     ]
    }
   ],
   "source": [
    "mental_df_copy = mental_df.head(3000)\n",
    "# Append the copied rows to the end of the DataFrame\n",
    "mental_df = mental_df.append(mental_df_copy, ignore_index=True)\n"
   ]
  },
  {
   "cell_type": "code",
   "execution_count": 7,
   "metadata": {},
   "outputs": [
    {
     "name": "stderr",
     "output_type": "stream",
     "text": [
      "/tmp/ipykernel_13136/1923336017.py:3: FutureWarning: The frame.append method is deprecated and will be removed from pandas in a future version. Use pandas.concat instead.\n",
      "  mental_df = mental_df.append(mental_df_copy, ignore_index=True)\n"
     ]
    }
   ],
   "source": [
    "mental_df_copy = mental_df.head(6000)\n",
    "# Append the copied rows to the end of the DataFrame\n",
    "mental_df = mental_df.append(mental_df_copy, ignore_index=True)\n"
   ]
  },
  {
   "cell_type": "code",
   "execution_count": 8,
   "metadata": {},
   "outputs": [
    {
     "name": "stderr",
     "output_type": "stream",
     "text": [
      "/tmp/ipykernel_13136/1923336017.py:3: FutureWarning: The frame.append method is deprecated and will be removed from pandas in a future version. Use pandas.concat instead.\n",
      "  mental_df = mental_df.append(mental_df_copy, ignore_index=True)\n"
     ]
    }
   ],
   "source": [
    "mental_df_copy = mental_df.head(6000)\n",
    "# Append the copied rows to the end of the DataFrame\n",
    "mental_df = mental_df.append(mental_df_copy, ignore_index=True)\n"
   ]
  },
  {
   "cell_type": "code",
   "execution_count": 9,
   "metadata": {},
   "outputs": [
    {
     "name": "stderr",
     "output_type": "stream",
     "text": [
      "/tmp/ipykernel_13136/3235845587.py:3: FutureWarning: The frame.append method is deprecated and will be removed from pandas in a future version. Use pandas.concat instead.\n",
      "  mental_df = mental_df.append(mental_df_copy, ignore_index=True)\n"
     ]
    }
   ],
   "source": [
    "mental_df_copy = mental_df.head(9000)\n",
    "# Append the copied rows to the end of the DataFrame\n",
    "mental_df = mental_df.append(mental_df_copy, ignore_index=True)\n"
   ]
  },
  {
   "cell_type": "code",
   "execution_count": 10,
   "metadata": {},
   "outputs": [],
   "source": [
    "# Save the modified DataFrame to a new CSV file\n",
    "mental_df.to_csv('modified_csv_file.csv', index=False)"
   ]
  },
  {
   "cell_type": "code",
   "execution_count": null,
   "metadata": {},
   "outputs": [],
   "source": []
  }
 ],
 "metadata": {
  "kernelspec": {
   "display_name": "Python 3",
   "language": "python",
   "name": "python3"
  },
  "language_info": {
   "codemirror_mode": {
    "name": "ipython",
    "version": 3
   },
   "file_extension": ".py",
   "mimetype": "text/x-python",
   "name": "python",
   "nbconvert_exporter": "python",
   "pygments_lexer": "ipython3",
   "version": "3.10.4"
  },
  "orig_nbformat": 4
 },
 "nbformat": 4,
 "nbformat_minor": 2
}
